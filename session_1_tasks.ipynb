{
  "nbformat": 4,
  "nbformat_minor": 0,
  "metadata": {
    "colab": {
      "provenance": []
    },
    "kernelspec": {
      "name": "python3",
      "display_name": "Python 3"
    },
    "language_info": {
      "name": "python"
    }
  },
  "cells": [
    {
      "cell_type": "markdown",
      "source": [
        "# Task : Session 1\n",
        "Solve these questions own your own and try to test yourself what you have learned in the session.\n",
        "\n",
        "Happy Learning!"
      ],
      "metadata": {
        "id": "A05OG15VqOPF"
      }
    },
    {
      "cell_type": "markdown",
      "source": [
        "### Q1 :- Print the given strings as per stated format.\n",
        "\n",
        "**Given strings**: \n",
        "```\n",
        "\"Data\" \"Science\" \"Mentorship\" \"Program\" \n",
        "\"By\" \"CampusX\"\n",
        "```\n",
        "**Output**: \n",
        "``` \n",
        "Data-Science-Mentorship-Program-started-By-CampusX\n",
        "```\n",
        "\n",
        "Concept- [Seperator and End]"
      ],
      "metadata": {
        "id": "2doIXf8bqe9_"
      }
    },
    {
      "cell_type": "code",
      "source": [
        "# Write your code here\n",
        "print(\"Data\" ,\"Science\", \"Mentorship\" ,\"Program\" ,\"By\" ,\"CampusX\",sep ='-')"
      ],
      "metadata": {
        "id": "-em6d3KErDtp",
        "colab": {
          "base_uri": "https://localhost:8080/"
        },
        "outputId": "f3ba4565-32de-401f-e2ca-a73cf252706e"
      },
      "execution_count": 1,
      "outputs": [
        {
          "output_type": "stream",
          "name": "stdout",
          "text": [
            "Data-Science-Mentorship-Program-By-CampusX\n"
          ]
        }
      ]
    },
    {
      "cell_type": "markdown",
      "source": [
        "### Q2:- Write a program that will convert celsius value to fahrenheit."
      ],
      "metadata": {
        "id": "1KUpN7ZTrC3_"
      }
    },
    {
      "cell_type": "code",
      "source": [
        "# Write your code here\n",
        "celsius= float(input(\"Please enter the celsius value\"))\n",
        "fahrenheit = (celsius *1.8)+32\n",
        "print(\"{} celsius value is equal to {} fahrenheit\" .format(celsius,fahrenheit))"
      ],
      "metadata": {
        "id": "yxKYhYQiqWfj",
        "colab": {
          "base_uri": "https://localhost:8080/"
        },
        "outputId": "591f7971-f5fb-4dc7-d033-83435c7b959f"
      },
      "execution_count": 8,
      "outputs": [
        {
          "output_type": "stream",
          "name": "stdout",
          "text": [
            "Please enter the celsius value100\n",
            "100.0 celsius value is equal to 212.0 fahrenheit\n"
          ]
        }
      ]
    },
    {
      "cell_type": "markdown",
      "source": [
        "### Q3:- Take 2 numbers as input from the user.Write a program to swap the numbers without using any special python syntax."
      ],
      "metadata": {
        "id": "RLrOBBJurLB2"
      }
    },
    {
      "cell_type": "code",
      "source": [
        "# Write your code here\n",
        "fnum= float(input(\"Please enter the first number : \"))\n",
        "snum= float(input(\"Please enter the second number : \"))\n",
        "c=None   #variable to swap a fnum and snum whose value is none\n",
        "c=snum\n",
        "snum=fnum\n",
        "fnum=c\n",
        "print(\"first number after swap is equal to {}\".format(fnum))\n",
        "print(\"second number after swap is equal to {}\".format(snum))\n",
        "\n"
      ],
      "metadata": {
        "id": "yPn7if0TrJ4F",
        "colab": {
          "base_uri": "https://localhost:8080/"
        },
        "outputId": "6e3cfb55-921d-4220-9c42-14ab9f3260b8"
      },
      "execution_count": 11,
      "outputs": [
        {
          "output_type": "stream",
          "name": "stdout",
          "text": [
            "Please enter the first number : 100\n",
            "Please enter the second number : 200\n",
            "first number after swap is equal to 200.0\n",
            "second number after swap is equal to 100.0\n"
          ]
        }
      ]
    },
    {
      "cell_type": "markdown",
      "source": [
        "### Q4:- Write a program to find the euclidean distance between two coordinates.Take both the coordinates from the user as input."
      ],
      "metadata": {
        "id": "waLCP1bjr7ML"
      }
    },
    {
      "cell_type": "code",
      "source": [
        "# Write your code here\n",
        "# for 1 Dimensional\n",
        "fcord = float(input(\"Please enter the first coordinate : \"))\n",
        "scord = float(input(\"Please enter the second coordinate : \"))\n",
        "euc_dist = fcord - (scord)\n",
        "print(\" The euclidean distance between two coordinate is {}\".format(euc_dist))"
      ],
      "metadata": {
        "id": "Pl1Sv-xnrxnH",
        "colab": {
          "base_uri": "https://localhost:8080/"
        },
        "outputId": "db37ca2b-5ed7-4928-f298-1659019433b2"
      },
      "execution_count": 13,
      "outputs": [
        {
          "output_type": "stream",
          "name": "stdout",
          "text": [
            "Please enter the first coordinate : 8\n",
            "Please enter the second coordinate : -5\n",
            " The euclidean distance between two coordinate is 13.0\n"
          ]
        }
      ]
    },
    {
      "cell_type": "code",
      "source": [
        "# Python Program to explain math.dist() method   # this applicable to python 3.8 version only\n",
        "  \n",
        "# Importing math module\n",
        "import math\n",
        "  \n",
        "# n-dimensional Point\n",
        "  \n",
        "# Coordinates of Point P\n",
        "P = [3, 9, 7, 2, 4, 5] \n",
        "  \n",
        "# Coordinates of point Q\n",
        "Q = [-5, -3, -9, 0, 6, 2]\n",
        "  \n",
        "# Calculate the Euclidean distance \n",
        "# between points P and Q\n",
        "eDistance = math.dist(P, Q)\n",
        "print(eDistance)\n",
        "  \n",
        "# Dimension of both points \n",
        "# should be the same "
      ],
      "metadata": {
        "colab": {
          "base_uri": "https://localhost:8080/",
          "height": 235
        },
        "id": "0L_Tu7J7jyFJ",
        "outputId": "b6c00b32-1001-4558-dc18-447006a9d25f"
      },
      "execution_count": 55,
      "outputs": [
        {
          "output_type": "error",
          "ename": "AttributeError",
          "evalue": "ignored",
          "traceback": [
            "\u001b[0;31m---------------------------------------------------------------------------\u001b[0m",
            "\u001b[0;31mAttributeError\u001b[0m                            Traceback (most recent call last)",
            "\u001b[0;32m<ipython-input-55-65b91b04bac4>\u001b[0m in \u001b[0;36m<module>\u001b[0;34m\u001b[0m\n\u001b[1;32m     14\u001b[0m \u001b[0;31m# Calculate the Euclidean distance\u001b[0m\u001b[0;34m\u001b[0m\u001b[0;34m\u001b[0m\u001b[0;34m\u001b[0m\u001b[0m\n\u001b[1;32m     15\u001b[0m \u001b[0;31m# between points P and Q\u001b[0m\u001b[0;34m\u001b[0m\u001b[0;34m\u001b[0m\u001b[0;34m\u001b[0m\u001b[0m\n\u001b[0;32m---> 16\u001b[0;31m \u001b[0meDistance\u001b[0m \u001b[0;34m=\u001b[0m \u001b[0mmath\u001b[0m\u001b[0;34m.\u001b[0m\u001b[0mdist\u001b[0m\u001b[0;34m(\u001b[0m\u001b[0mP\u001b[0m\u001b[0;34m,\u001b[0m \u001b[0mQ\u001b[0m\u001b[0;34m)\u001b[0m\u001b[0;34m\u001b[0m\u001b[0;34m\u001b[0m\u001b[0m\n\u001b[0m\u001b[1;32m     17\u001b[0m \u001b[0mprint\u001b[0m\u001b[0;34m(\u001b[0m\u001b[0meDistance\u001b[0m\u001b[0;34m)\u001b[0m\u001b[0;34m\u001b[0m\u001b[0;34m\u001b[0m\u001b[0m\n\u001b[1;32m     18\u001b[0m \u001b[0;34m\u001b[0m\u001b[0m\n",
            "\u001b[0;31mAttributeError\u001b[0m: module 'math' has no attribute 'dist'"
          ]
        }
      ]
    },
    {
      "cell_type": "markdown",
      "source": [
        "### Q5:- Write a program to find the simple interest when the value of principle,rate of interest and time period is provided by the user.\n"
      ],
      "metadata": {
        "id": "VLrhg-FRsHjR"
      }
    },
    {
      "cell_type": "code",
      "source": [
        "# Write your code here\n",
        "principle = float((input(\"Please enter the principle amount : \")))\n",
        "rate = float((input(\"Please enter the rate of interest : \")))\n",
        "time_period = int((input(\" Please enter the time period in terms of month \"))) \n",
        "interest = principle *rate*time_period/(100*12)\n",
        "print(\" The simple interest for principle amount {} is {}\".format(principle,interest))"
      ],
      "metadata": {
        "id": "s40DlReZsTmY",
        "colab": {
          "base_uri": "https://localhost:8080/"
        },
        "outputId": "cfbc4bef-2c43-4a83-9c97-b21802a6655f"
      },
      "execution_count": 18,
      "outputs": [
        {
          "output_type": "stream",
          "name": "stdout",
          "text": [
            "Please enter the principle amount : 1000\n",
            "Please enter the rate of interest : 10\n",
            " Please enter the time period in terms of month 12\n",
            " The simple interest for principle amount 1000.0 is 100.0\n"
          ]
        }
      ]
    },
    {
      "cell_type": "markdown",
      "source": [
        "### Q6:- Write a program that will tell the number of dogs and chicken are there when the user will provide the value of total heads and legs.\n",
        "\n",
        "For example:\n",
        "Input:\n",
        "heads -> 4\n",
        "legs -> 12\n",
        "<br>\n",
        "Output:\n",
        "dogs -> 2\n",
        "chicken -> 2\n",
        "\n",
        "\n",
        "\n"
      ],
      "metadata": {
        "id": "LMy0BTUktYKa"
      }
    },
    {
      "cell_type": "code",
      "source": [
        "# Write your code here\n",
        "def solve(numLegs, numHeads):\n",
        "    \n",
        "    \n",
        "    for numChicks in range(0, numHeads + 1):\n",
        "        numdogs = numHeads - numChicks\n",
        "        totLegs = 4 * numdogs + 2* numChicks\n",
        "        if totLegs == numLegs:\n",
        "           return [numdogs, numChicks]\n",
        "    return[None, None]\n",
        "\n",
        "def barnYard():\n",
        "    heads = int(input('Enter number of heads:'))\n",
        "    legs = int(input('Enter number of legs:'))\n",
        "    dogs, chickens = solve(legs, heads)\n",
        "    if dogs == None:\n",
        "       print ('there is no solution')\n",
        "    else:\n",
        "        print ('number of dogs:' ,dogs)\n",
        "        print ('number of chickes:', chickens)"
      ],
      "metadata": {
        "id": "XSBvJoA4tXaG"
      },
      "execution_count": 53,
      "outputs": []
    },
    {
      "cell_type": "code",
      "source": [
        "barnYard()"
      ],
      "metadata": {
        "colab": {
          "base_uri": "https://localhost:8080/"
        },
        "id": "_hN8fwav9DSw",
        "outputId": "d5887709-60f9-49d8-9685-94f22f028f08"
      },
      "execution_count": 54,
      "outputs": [
        {
          "output_type": "stream",
          "name": "stdout",
          "text": [
            "Enter number of heads:4\n",
            "Enter number of legs:12\n",
            "number of dogs: 2\n",
            "number of chickes: 2\n"
          ]
        }
      ]
    },
    {
      "cell_type": "markdown",
      "source": [
        "### Q7:- Write a program to find the sum of squares of first n natural numbers where n will be provided by the user."
      ],
      "metadata": {
        "id": "gJ7C5kZYt4BP"
      }
    },
    {
      "cell_type": "code",
      "source": [
        "# Write your code here\n",
        "num = int(input(\" Please enter the number : \"))\n",
        "sum_squares= (num * (num +1) * (2*num +1))/6\n",
        "print(\"sum of squares of first {} natural numbers is {} \". format(num, sum_squares))\n"
      ],
      "metadata": {
        "id": "_tHsmEHzt2nX",
        "colab": {
          "base_uri": "https://localhost:8080/"
        },
        "outputId": "a7d968d1-8495-4972-d41e-11679ab57d2b"
      },
      "execution_count": 21,
      "outputs": [
        {
          "output_type": "stream",
          "name": "stdout",
          "text": [
            " Please enter the number : 40\n",
            "sum of squares of first 40 natural numbers is 22140.0 \n"
          ]
        }
      ]
    },
    {
      "cell_type": "markdown",
      "source": [
        "### Q8:- Given the first 2 terms of an Arithmetic Series.Find the Nth term of the series. Assume all inputs are provided by the user."
      ],
      "metadata": {
        "id": "FHrMM7g-yG1h"
      }
    },
    {
      "cell_type": "code",
      "source": [
        "# Write your code here\n",
        "fterm = int(input(\" Please enter the first term of Series : \"))\n",
        "sterm = int(input(\" Please enter the second term of Series : \"))\n",
        "n= int(input(\"Please enter the number : \"))\n",
        "common_diff = sterm - fterm\n",
        "# nth (or general) term is given by an=a1+(n−1)d .\n",
        "n_th_term = fterm + (n-1)*common_diff\n",
        "print(\" Nth term of the series is equal to {}\".format(n_th_term))"
      ],
      "metadata": {
        "id": "go4_kmZmyVSx",
        "colab": {
          "base_uri": "https://localhost:8080/"
        },
        "outputId": "7838eeb8-41a9-4d99-9a66-93ffb4200d92"
      },
      "execution_count": 24,
      "outputs": [
        {
          "output_type": "stream",
          "name": "stdout",
          "text": [
            " Please enter the first term of Series : 5\n",
            " Please enter the second term of Series : 8\n",
            "Please enter the number : 27\n",
            " Nth term of the series is equal to 83\n"
          ]
        }
      ]
    },
    {
      "cell_type": "markdown",
      "source": [
        "### Q9:- Given 2 fractions, find the sum of those 2 fractions.Take the numerator and denominator values of the fractions from the user."
      ],
      "metadata": {
        "id": "QgyRX_es1oum"
      }
    },
    {
      "cell_type": "code",
      "source": [
        "# Write your code here\n",
        "num1=int(input(\"Please enter the numerator of first fraction : \"))\n",
        "den1=int(input(\"Please enter the denominator of first fraction : \"))\n",
        "num2=int(input(\"Please enter the numerator of second fraction : \"))\n",
        "den2=int(input(\"Please enter the denominator of second fraction : \"))\n",
        "sum_fraction = ((num1*den2)+(num2*den1))/(den1*den2)\n",
        "print(\" The sum of {}/{} and {}/{} is equal to {}\".format(num1,den1,num2,den2,sum_fraction))"
      ],
      "metadata": {
        "id": "X05xqFS1yW16",
        "colab": {
          "base_uri": "https://localhost:8080/"
        },
        "outputId": "b05502ef-9b50-4964-dac1-f0679da101a6"
      },
      "execution_count": 28,
      "outputs": [
        {
          "output_type": "stream",
          "name": "stdout",
          "text": [
            "Please enter the numerator of first fraction : 1\n",
            "Please enter the denominator of first fraction : 2\n",
            "Please enter the numerator of second fraction : 1\n",
            "Please enter the denominator of second fraction : 2\n",
            " The sum of 1/2 and 1/2 is equal to 1.0\n"
          ]
        }
      ]
    },
    {
      "cell_type": "markdown",
      "source": [
        "2### Q10:- Given the height, width and breadth of a milk tank, you have to find out how many glasses of milk can be obtained? Assume all the inputs are provided by the user.\n",
        "\n",
        "\n",
        "\n",
        "Input:<br>\n",
        "Dimensions of the milk tank<br>\n",
        "H = 20cm, L = 20cm, B = 20cm\n",
        "<br><br>\n",
        "Dimensions of the glass<br>\n",
        "h = 3cm, r = 1cm"
      ],
      "metadata": {
        "id": "eaql38ln13u7"
      }
    },
    {
      "cell_type": "code",
      "source": [
        "# Write your code here\n",
        "\n",
        "#volume of milk tank\n",
        "Length = int((input('Enter the length of a milk tank : ')))\n",
        "Breadth = int((input('Enter the breadth of milk tank :')))\n",
        "Height = int((input('Enter the height of milk tank :')))\n",
        "v_tank= Length*Breadth*Height\n",
        "# volume of glass\n",
        "pi = 3.14\n",
        "radius = int(input('Enter the radius of a cylinder: '))\n",
        "height = int(input('Enter the height of a cylinder: '))\n",
        "#Formula for Volume of Cylinder\n",
        "v_glass = pi * radius * radius * height\n",
        "\n",
        "#find the number of glass\n",
        "\n",
        "n_glass= round(v_tank/v_glass)\n",
        "\n",
        "print(\"The number of glass obtained is equal to {}\".format(n_glass))\n",
        "\n"
      ],
      "metadata": {
        "id": "FePZqno74eWv",
        "colab": {
          "base_uri": "https://localhost:8080/"
        },
        "outputId": "0df57ff2-15fe-43ef-c9a2-e2536eb0726c"
      },
      "execution_count": 31,
      "outputs": [
        {
          "output_type": "stream",
          "name": "stdout",
          "text": [
            "Enter the length of a milk tank : 100\n",
            "Enter the breadth of milk tank :100\n",
            "Enter the height of milk tank :100\n",
            "Enter the radius of a cylinder: 2\n",
            "Enter the height of a cylinder: 3\n",
            "The number of glass obtained is equal to 26539\n"
          ]
        }
      ]
    },
    {
      "cell_type": "code",
      "source": [],
      "metadata": {
        "id": "x60z_cyL3kKa"
      },
      "execution_count": 31,
      "outputs": []
    },
    {
      "cell_type": "code",
      "source": [],
      "metadata": {
        "id": "zPtIE2j239Iz"
      },
      "execution_count": null,
      "outputs": []
    }
  ]
}